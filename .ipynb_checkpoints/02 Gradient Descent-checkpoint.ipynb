{
 "cells": [
  {
   "cell_type": "markdown",
   "metadata": {},
   "source": [
    "## 实现梯度下降"
   ]
  },
  {
   "cell_type": "code",
   "execution_count": 11,
   "metadata": {
    "collapsed": true
   },
   "outputs": [],
   "source": [
    "import numpy as np\n",
    "import matplotlib.pyplot as plt"
   ]
  },
  {
   "cell_type": "markdown",
   "metadata": {},
   "source": [
    "## 使用numpy构造 虚拟 数据"
   ]
  },
  {
   "cell_type": "code",
   "execution_count": 18,
   "metadata": {
    "collapsed": true
   },
   "outputs": [],
   "source": [
    "x  = np.linspace(-10, 5, 151)\n",
    "y = (x+2.5)**2 +7 #loss function"
   ]
  },
  {
   "cell_type": "code",
   "execution_count": 19,
   "metadata": {},
   "outputs": [
    {
     "data": {
      "image/png": "[encoded data removed]",
      "text/plain": [
       "<Figure size 432x288 with 1 Axes>"
      ]
     },
     "metadata": {
      "needs_background": "light"
     },
     "output_type": "display_data"
    }
   ],
   "source": [
    "plt.plot(x,y)\n",
    "plt.show()"
   ]
  },
  {
   "cell_type": "markdown",
   "metadata": {},
   "source": [
    "## 实现梯度下降"
   ]
  },
  {
   "cell_type": "code",
   "execution_count": 14,
   "metadata": {
    "collapsed": true
   },
   "outputs": [],
   "source": [
    "#求导\n",
    "def dJ(theta):\n",
    "    return 2*(theta+2.5)"
   ]
  },
  {
   "cell_type": "code",
   "execution_count": 15,
   "metadata": {
    "collapsed": true
   },
   "outputs": [],
   "source": [
    "#loss function\n",
    "def J(theta):\n",
    "    return (theta+2.5)**2+7"
   ]
  },
  {
   "cell_type": "code",
   "execution_count": 29,
   "metadata": {
    "collapsed": true
   },
   "outputs": [],
   "source": [
    "def gradient_descent(lr, theta):\n",
    "    ''' 传入 学习率lr， theta 的初始位置'''\n",
    "    limit = 1e-7 # 由于不太可能让导数跑到 0，所以加个判定条件，证明损失函数已经收敛了,1e表示科学计算法小数点后7位\n",
    "    theta_histories = [theta] # 记录 theta 的走向\n",
    "    while True:\n",
    "        direction = dJ(theta) # 求导找方向\n",
    "        last_theta = theta # 保存一开始 theta 值\n",
    "        theta = theta - lr * direction # 向 “谷底” 移动一步，生成新的 theta 值\n",
    "        theta_histories.append(theta) # 持续添加 每次移动后的 thata\n",
    "        \n",
    "        if(abs(J(theta) - J(last_theta)) < limit):\n",
    "            break\n",
    "    return theta, theta_histories"
   ]
  },
  {
   "cell_type": "code",
   "execution_count": 30,
   "metadata": {},
   "outputs": [
    {
     "name": "stdout",
     "output_type": "stream",
     "text": [
      "-2.5003743106036134\n",
      "7.000000140108428\n"
     ]
    }
   ],
   "source": [
    "lr = 0.1 #学习率\n",
    "theta = -8.0\n",
    "\n",
    "theta, theta_histories = gradient_descent(lr,theta)\n",
    "print(theta)\n",
    "print(J(theta))"
   ]
  },
  {
   "cell_type": "code",
   "execution_count": null,
   "metadata": {
    "collapsed": true
   },
   "outputs": [],
   "source": []
  }
 ],
 "metadata": {
  "kernelspec": {
   "display_name": "Python [conda env:WZQ]",
   "language": "python",
   "name": "conda-env-WZQ-py"
  },
  "language_info": {
   "codemirror_mode": {
    "name": "ipython",
    "version": 3
   },
   "file_extension": ".py",
   "mimetype": "text/x-python",
   "name": "python",
   "nbconvert_exporter": "python",
   "pygments_lexer": "ipython3",
   "version": "3.6.8"
  }
 },
 "nbformat": 4,
 "nbformat_minor": 2
}
